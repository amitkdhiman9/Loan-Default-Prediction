{
 "cells": [
  {
   "cell_type": "markdown",
   "metadata": {},
   "source": [
    "# Loan Default Prediction\n",
    "\n",
    "The objective of this challenge was to predict which customers will default on a loan provided to them and which customers won't. The dataset provided to us contains multiple columns. Let's checkout what are the different variables available and their description."
   ]
  },
  {
   "cell_type": "code",
   "execution_count": 1,
   "metadata": {
    "scrolled": false
   },
   "outputs": [
    {
     "data": {
      "text/html": [
       "<div>\n",
       "<style scoped>\n",
       "    .dataframe tbody tr th:only-of-type {\n",
       "        vertical-align: middle;\n",
       "    }\n",
       "\n",
       "    .dataframe tbody tr th {\n",
       "        vertical-align: top;\n",
       "    }\n",
       "\n",
       "    .dataframe thead th {\n",
       "        text-align: right;\n",
       "    }\n",
       "</style>\n",
       "<table border=\"1\" class=\"dataframe\">\n",
       "  <thead>\n",
       "    <tr style=\"text-align: right;\">\n",
       "      <th></th>\n",
       "      <th>Column_name</th>\n",
       "      <th>Column_type</th>\n",
       "      <th>Data_type</th>\n",
       "      <th>Description</th>\n",
       "    </tr>\n",
       "  </thead>\n",
       "  <tbody>\n",
       "    <tr>\n",
       "      <th>0</th>\n",
       "      <td>LoanID</td>\n",
       "      <td>Identifier</td>\n",
       "      <td>string</td>\n",
       "      <td>A unique identifier for each loan.</td>\n",
       "    </tr>\n",
       "    <tr>\n",
       "      <th>1</th>\n",
       "      <td>Age</td>\n",
       "      <td>Feature</td>\n",
       "      <td>integer</td>\n",
       "      <td>The age of the borrower.</td>\n",
       "    </tr>\n",
       "    <tr>\n",
       "      <th>2</th>\n",
       "      <td>Income</td>\n",
       "      <td>Feature</td>\n",
       "      <td>integer</td>\n",
       "      <td>The annual income of the borrower.</td>\n",
       "    </tr>\n",
       "    <tr>\n",
       "      <th>3</th>\n",
       "      <td>LoanAmount</td>\n",
       "      <td>Feature</td>\n",
       "      <td>integer</td>\n",
       "      <td>The amount of money being borrowed.</td>\n",
       "    </tr>\n",
       "    <tr>\n",
       "      <th>4</th>\n",
       "      <td>CreditScore</td>\n",
       "      <td>Feature</td>\n",
       "      <td>integer</td>\n",
       "      <td>The credit score of the borrower, indicating their creditworthiness.</td>\n",
       "    </tr>\n",
       "    <tr>\n",
       "      <th>5</th>\n",
       "      <td>MonthsEmployed</td>\n",
       "      <td>Feature</td>\n",
       "      <td>integer</td>\n",
       "      <td>The number of months the borrower has been employed.</td>\n",
       "    </tr>\n",
       "    <tr>\n",
       "      <th>6</th>\n",
       "      <td>NumCreditLines</td>\n",
       "      <td>Feature</td>\n",
       "      <td>integer</td>\n",
       "      <td>The number of credit lines the borrower has open.</td>\n",
       "    </tr>\n",
       "    <tr>\n",
       "      <th>7</th>\n",
       "      <td>InterestRate</td>\n",
       "      <td>Feature</td>\n",
       "      <td>float</td>\n",
       "      <td>The interest rate for the loan.</td>\n",
       "    </tr>\n",
       "    <tr>\n",
       "      <th>8</th>\n",
       "      <td>LoanTerm</td>\n",
       "      <td>Feature</td>\n",
       "      <td>integer</td>\n",
       "      <td>The term length of the loan in months.</td>\n",
       "    </tr>\n",
       "    <tr>\n",
       "      <th>9</th>\n",
       "      <td>DTIRatio</td>\n",
       "      <td>Feature</td>\n",
       "      <td>float</td>\n",
       "      <td>The Debt-to-Income ratio, indicating the borrower's debt compared to their income.</td>\n",
       "    </tr>\n",
       "    <tr>\n",
       "      <th>10</th>\n",
       "      <td>Education</td>\n",
       "      <td>Feature</td>\n",
       "      <td>string</td>\n",
       "      <td>The highest level of education attained by the borrower (PhD, Master's, Bachelor's, High School).</td>\n",
       "    </tr>\n",
       "    <tr>\n",
       "      <th>11</th>\n",
       "      <td>EmploymentType</td>\n",
       "      <td>Feature</td>\n",
       "      <td>string</td>\n",
       "      <td>The type of employment status of the borrower (Full-time, Part-time, Self-employed, Unemployed).</td>\n",
       "    </tr>\n",
       "    <tr>\n",
       "      <th>12</th>\n",
       "      <td>MaritalStatus</td>\n",
       "      <td>Feature</td>\n",
       "      <td>string</td>\n",
       "      <td>The marital status of the borrower (Single, Married, Divorced).</td>\n",
       "    </tr>\n",
       "    <tr>\n",
       "      <th>13</th>\n",
       "      <td>HasMortgage</td>\n",
       "      <td>Feature</td>\n",
       "      <td>string</td>\n",
       "      <td>Whether the borrower has a mortgage (Yes or No).</td>\n",
       "    </tr>\n",
       "    <tr>\n",
       "      <th>14</th>\n",
       "      <td>HasDependents</td>\n",
       "      <td>Feature</td>\n",
       "      <td>string</td>\n",
       "      <td>Whether the borrower has dependents (Yes or No).</td>\n",
       "    </tr>\n",
       "    <tr>\n",
       "      <th>15</th>\n",
       "      <td>LoanPurpose</td>\n",
       "      <td>Feature</td>\n",
       "      <td>string</td>\n",
       "      <td>The purpose of the loan (Home, Auto, Education, Business, Other).</td>\n",
       "    </tr>\n",
       "    <tr>\n",
       "      <th>16</th>\n",
       "      <td>HasCoSigner</td>\n",
       "      <td>Feature</td>\n",
       "      <td>string</td>\n",
       "      <td>Whether the loan has a co-signer (Yes or No).</td>\n",
       "    </tr>\n",
       "    <tr>\n",
       "      <th>17</th>\n",
       "      <td>Default</td>\n",
       "      <td>Target</td>\n",
       "      <td>integer</td>\n",
       "      <td>The binary target variable indicating whether the loan defaulted (1) or not (0).</td>\n",
       "    </tr>\n",
       "  </tbody>\n",
       "</table>\n",
       "</div>"
      ],
      "text/plain": [
       "       Column_name Column_type Data_type  \\\n",
       "0           LoanID  Identifier    string   \n",
       "1              Age     Feature   integer   \n",
       "2           Income     Feature   integer   \n",
       "3       LoanAmount     Feature   integer   \n",
       "4      CreditScore     Feature   integer   \n",
       "5   MonthsEmployed     Feature   integer   \n",
       "6   NumCreditLines     Feature   integer   \n",
       "7     InterestRate     Feature     float   \n",
       "8         LoanTerm     Feature   integer   \n",
       "9         DTIRatio     Feature     float   \n",
       "10       Education     Feature    string   \n",
       "11  EmploymentType     Feature    string   \n",
       "12   MaritalStatus     Feature    string   \n",
       "13     HasMortgage     Feature    string   \n",
       "14   HasDependents     Feature    string   \n",
       "15     LoanPurpose     Feature    string   \n",
       "16     HasCoSigner     Feature    string   \n",
       "17         Default      Target   integer   \n",
       "\n",
       "                                                                                          Description  \n",
       "0                                                                  A unique identifier for each loan.  \n",
       "1                                                                            The age of the borrower.  \n",
       "2                                                                  The annual income of the borrower.  \n",
       "3                                                                 The amount of money being borrowed.  \n",
       "4                                The credit score of the borrower, indicating their creditworthiness.  \n",
       "5                                                The number of months the borrower has been employed.  \n",
       "6                                                   The number of credit lines the borrower has open.  \n",
       "7                                                                     The interest rate for the loan.  \n",
       "8                                                              The term length of the loan in months.  \n",
       "9                  The Debt-to-Income ratio, indicating the borrower's debt compared to their income.  \n",
       "10  The highest level of education attained by the borrower (PhD, Master's, Bachelor's, High School).  \n",
       "11   The type of employment status of the borrower (Full-time, Part-time, Self-employed, Unemployed).  \n",
       "12                                    The marital status of the borrower (Single, Married, Divorced).  \n",
       "13                                                   Whether the borrower has a mortgage (Yes or No).  \n",
       "14                                                   Whether the borrower has dependents (Yes or No).  \n",
       "15                                  The purpose of the loan (Home, Auto, Education, Business, Other).  \n",
       "16                                                      Whether the loan has a co-signer (Yes or No).  \n",
       "17                   The binary target variable indicating whether the loan defaulted (1) or not (0).  "
      ]
     },
     "execution_count": 1,
     "metadata": {},
     "output_type": "execute_result"
    }
   ],
   "source": [
    "import pandas as pd\n",
    "data_descriptions = pd.read_csv('data_descriptions.csv')\n",
    "pd.set_option('display.max_colwidth', None)\n",
    "data_descriptions"
   ]
  },
  {
   "cell_type": "markdown",
   "metadata": {},
   "source": [
    "Seems like there are 15 independent variables (we will not consider `LoanID` as it does not influence who will default) and 1 dependent (or target) variable, i.e. `Default`."
   ]
  },
  {
   "cell_type": "markdown",
   "metadata": {},
   "source": [
    "## Import Python Modules\n",
    "\n",
    "First, I will be importing the primary modules that will be used in this project. Some of the following popular packages will be useful:\n",
    "\n",
    "- pandas\n",
    "- numpy\n",
    "- Scipy\n",
    "- Scikit-learn\n",
    "- keras\n",
    "- maplotlib\n",
    "- seaborn\n",
    "- etc, etc\n",
    "\n",
    "We need to install 'xgboost' module as it is not pre-installed on this machine."
   ]
  },
  {
   "cell_type": "code",
   "execution_count": 2,
   "metadata": {},
   "outputs": [
    {
     "name": "stdout",
     "output_type": "stream",
     "text": [
      "Collecting xgboost\n",
      "  Obtaining dependency information for xgboost from https://files.pythonhosted.org/packages/a6/32/cd71fbcebde0809c4e911c9f5f65833c2a4bb43defc63d0b9377f3800bda/xgboost-1.6.2-py3-none-manylinux2014_x86_64.whl.metadata\n",
      "  Downloading xgboost-1.6.2-py3-none-manylinux2014_x86_64.whl.metadata (1.8 kB)\n",
      "Requirement already satisfied: numpy in /opt/conda/lib/python3.7/site-packages (from xgboost) (1.18.4)\n",
      "Requirement already satisfied: scipy in /opt/conda/lib/python3.7/site-packages (from xgboost) (1.4.1)\n",
      "Downloading xgboost-1.6.2-py3-none-manylinux2014_x86_64.whl (255.9 MB)\n",
      "\u001b[2K   \u001b[90m━━━━━━━━━━━━━━━━━━━━━━━━━━━━━━━━━━━━━━━━\u001b[0m \u001b[32m255.9/255.9 MB\u001b[0m \u001b[31m9.7 MB/s\u001b[0m eta \u001b[36m0:00:00\u001b[0m:00:01\u001b[0m00:01\u001b[0m\n",
      "\u001b[?25hInstalling collected packages: xgboost\n",
      "Successfully installed xgboost-1.6.2\n",
      "\n",
      "\u001b[1m[\u001b[0m\u001b[34;49mnotice\u001b[0m\u001b[1;39;49m]\u001b[0m\u001b[39;49m A new release of pip is available: \u001b[0m\u001b[31;49m23.2.1\u001b[0m\u001b[39;49m -> \u001b[0m\u001b[32;49m24.0\u001b[0m\n",
      "\u001b[1m[\u001b[0m\u001b[34;49mnotice\u001b[0m\u001b[1;39;49m]\u001b[0m\u001b[39;49m To update, run: \u001b[0m\u001b[32;49mpip install --upgrade pip\u001b[0m\n"
     ]
    }
   ],
   "source": [
    "!pip install xgboost"
   ]
  },
  {
   "cell_type": "code",
   "execution_count": 2,
   "metadata": {},
   "outputs": [],
   "source": [
    "# Importing pandas and numpy for data manipulation and analysis of the dataset\n",
    "import pandas as pd\n",
    "import numpy as np\n",
    "\n",
    "# Visualization Packages to do Exploratory Data Analysis\n",
    "from matplotlib import pyplot as plt\n",
    "import seaborn as sns\n",
    "%matplotlib inline\n",
    "\n",
    "# For pre-processing\n",
    "from sklearn.preprocessing import MinMaxScaler\n",
    "\n",
    "# For splitting the model into training and testing dataset\n",
    "from sklearn.model_selection import train_test_split\n",
    "\n",
    "# For building different Machine Learning Models\n",
    "# Logistic Regression\n",
    "from sklearn.linear_model import LogisticRegression\n",
    "# Decision Tree\n",
    "from sklearn.tree import DecisionTreeClassifier\n",
    "# Random Forest\n",
    "from sklearn.ensemble import RandomForestClassifier\n",
    "# XGBoost\n",
    "from xgboost import XGBClassifier\n",
    "\n",
    "# For hyper-parameter tuning\n",
    "from sklearn.model_selection import GridSearchCV\n",
    "\n",
    "# For evaluating recall, precision, accuracy and f1 scores, and roc auc score of models\n",
    "from sklearn.metrics import recall_score, precision_score, accuracy_score, f1_score\n",
    "from sklearn.metrics import roc_auc_score"
   ]
  },
  {
   "cell_type": "markdown",
   "metadata": {},
   "source": [
    "### Using different Tuned Machine Learning Models\n",
    "\n",
    "We will be using 4 different Machine Learning Models to predict the Default:\n",
    "1. Logistic Regression\n",
    "2. Decision Tree\n",
    "3. Random Forest\n",
    "4. XGBoost\n",
    "\n",
    "All 4 of these models' parameters will be tuned using GridSearchCV to find the best parameters that will give the highest **ROC AUC Score**. The best out of these 4 tuned models will be submitted."
   ]
  },
  {
   "cell_type": "markdown",
   "metadata": {},
   "source": [
    "## Load the Data\n",
    "\n",
    "Now, I have been provided with 2 different datasets: One for training our models and the other that will check our model's efficiency on unseen data using ROC AUC score as the scoring metric. Let's start by loading the dataset `train.csv` into a dataframe `train_df`, and `test.csv` into a dataframe `test_df` and display the shape of the dataframes."
   ]
  },
  {
   "cell_type": "code",
   "execution_count": 3,
   "metadata": {},
   "outputs": [
    {
     "name": "stdout",
     "output_type": "stream",
     "text": [
      "train_df Shape: (255347, 18)\n"
     ]
    },
    {
     "data": {
      "text/html": [
       "<div>\n",
       "<style scoped>\n",
       "    .dataframe tbody tr th:only-of-type {\n",
       "        vertical-align: middle;\n",
       "    }\n",
       "\n",
       "    .dataframe tbody tr th {\n",
       "        vertical-align: top;\n",
       "    }\n",
       "\n",
       "    .dataframe thead th {\n",
       "        text-align: right;\n",
       "    }\n",
       "</style>\n",
       "<table border=\"1\" class=\"dataframe\">\n",
       "  <thead>\n",
       "    <tr style=\"text-align: right;\">\n",
       "      <th></th>\n",
       "      <th>LoanID</th>\n",
       "      <th>Age</th>\n",
       "      <th>Income</th>\n",
       "      <th>LoanAmount</th>\n",
       "      <th>CreditScore</th>\n",
       "      <th>MonthsEmployed</th>\n",
       "      <th>NumCreditLines</th>\n",
       "      <th>InterestRate</th>\n",
       "      <th>LoanTerm</th>\n",
       "      <th>DTIRatio</th>\n",
       "      <th>Education</th>\n",
       "      <th>EmploymentType</th>\n",
       "      <th>MaritalStatus</th>\n",
       "      <th>HasMortgage</th>\n",
       "      <th>HasDependents</th>\n",
       "      <th>LoanPurpose</th>\n",
       "      <th>HasCoSigner</th>\n",
       "      <th>Default</th>\n",
       "    </tr>\n",
       "  </thead>\n",
       "  <tbody>\n",
       "    <tr>\n",
       "      <th>0</th>\n",
       "      <td>I38PQUQS96</td>\n",
       "      <td>56</td>\n",
       "      <td>85994</td>\n",
       "      <td>50587</td>\n",
       "      <td>520</td>\n",
       "      <td>80</td>\n",
       "      <td>4</td>\n",
       "      <td>15.23</td>\n",
       "      <td>36</td>\n",
       "      <td>0.44</td>\n",
       "      <td>Bachelor's</td>\n",
       "      <td>Full-time</td>\n",
       "      <td>Divorced</td>\n",
       "      <td>Yes</td>\n",
       "      <td>Yes</td>\n",
       "      <td>Other</td>\n",
       "      <td>Yes</td>\n",
       "      <td>0</td>\n",
       "    </tr>\n",
       "    <tr>\n",
       "      <th>1</th>\n",
       "      <td>HPSK72WA7R</td>\n",
       "      <td>69</td>\n",
       "      <td>50432</td>\n",
       "      <td>124440</td>\n",
       "      <td>458</td>\n",
       "      <td>15</td>\n",
       "      <td>1</td>\n",
       "      <td>4.81</td>\n",
       "      <td>60</td>\n",
       "      <td>0.68</td>\n",
       "      <td>Master's</td>\n",
       "      <td>Full-time</td>\n",
       "      <td>Married</td>\n",
       "      <td>No</td>\n",
       "      <td>No</td>\n",
       "      <td>Other</td>\n",
       "      <td>Yes</td>\n",
       "      <td>0</td>\n",
       "    </tr>\n",
       "    <tr>\n",
       "      <th>2</th>\n",
       "      <td>C1OZ6DPJ8Y</td>\n",
       "      <td>46</td>\n",
       "      <td>84208</td>\n",
       "      <td>129188</td>\n",
       "      <td>451</td>\n",
       "      <td>26</td>\n",
       "      <td>3</td>\n",
       "      <td>21.17</td>\n",
       "      <td>24</td>\n",
       "      <td>0.31</td>\n",
       "      <td>Master's</td>\n",
       "      <td>Unemployed</td>\n",
       "      <td>Divorced</td>\n",
       "      <td>Yes</td>\n",
       "      <td>Yes</td>\n",
       "      <td>Auto</td>\n",
       "      <td>No</td>\n",
       "      <td>1</td>\n",
       "    </tr>\n",
       "    <tr>\n",
       "      <th>3</th>\n",
       "      <td>V2KKSFM3UN</td>\n",
       "      <td>32</td>\n",
       "      <td>31713</td>\n",
       "      <td>44799</td>\n",
       "      <td>743</td>\n",
       "      <td>0</td>\n",
       "      <td>3</td>\n",
       "      <td>7.07</td>\n",
       "      <td>24</td>\n",
       "      <td>0.23</td>\n",
       "      <td>High School</td>\n",
       "      <td>Full-time</td>\n",
       "      <td>Married</td>\n",
       "      <td>No</td>\n",
       "      <td>No</td>\n",
       "      <td>Business</td>\n",
       "      <td>No</td>\n",
       "      <td>0</td>\n",
       "    </tr>\n",
       "    <tr>\n",
       "      <th>4</th>\n",
       "      <td>EY08JDHTZP</td>\n",
       "      <td>60</td>\n",
       "      <td>20437</td>\n",
       "      <td>9139</td>\n",
       "      <td>633</td>\n",
       "      <td>8</td>\n",
       "      <td>4</td>\n",
       "      <td>6.51</td>\n",
       "      <td>48</td>\n",
       "      <td>0.73</td>\n",
       "      <td>Bachelor's</td>\n",
       "      <td>Unemployed</td>\n",
       "      <td>Divorced</td>\n",
       "      <td>No</td>\n",
       "      <td>Yes</td>\n",
       "      <td>Auto</td>\n",
       "      <td>No</td>\n",
       "      <td>0</td>\n",
       "    </tr>\n",
       "  </tbody>\n",
       "</table>\n",
       "</div>"
      ],
      "text/plain": [
       "       LoanID  Age  Income  LoanAmount  CreditScore  MonthsEmployed  \\\n",
       "0  I38PQUQS96   56   85994       50587          520              80   \n",
       "1  HPSK72WA7R   69   50432      124440          458              15   \n",
       "2  C1OZ6DPJ8Y   46   84208      129188          451              26   \n",
       "3  V2KKSFM3UN   32   31713       44799          743               0   \n",
       "4  EY08JDHTZP   60   20437        9139          633               8   \n",
       "\n",
       "   NumCreditLines  InterestRate  LoanTerm  DTIRatio    Education  \\\n",
       "0               4         15.23        36      0.44   Bachelor's   \n",
       "1               1          4.81        60      0.68     Master's   \n",
       "2               3         21.17        24      0.31     Master's   \n",
       "3               3          7.07        24      0.23  High School   \n",
       "4               4          6.51        48      0.73   Bachelor's   \n",
       "\n",
       "  EmploymentType MaritalStatus HasMortgage HasDependents LoanPurpose  \\\n",
       "0      Full-time      Divorced         Yes           Yes       Other   \n",
       "1      Full-time       Married          No            No       Other   \n",
       "2     Unemployed      Divorced         Yes           Yes        Auto   \n",
       "3      Full-time       Married          No            No    Business   \n",
       "4     Unemployed      Divorced          No           Yes        Auto   \n",
       "\n",
       "  HasCoSigner  Default  \n",
       "0         Yes        0  \n",
       "1         Yes        0  \n",
       "2          No        1  \n",
       "3          No        0  \n",
       "4          No        0  "
      ]
     },
     "execution_count": 3,
     "metadata": {},
     "output_type": "execute_result"
    }
   ],
   "source": [
    "train_df = pd.read_csv(\"train.csv\")\n",
    "print('train_df Shape:', train_df.shape)\n",
    "train_df.head()"
   ]
  },
  {
   "cell_type": "code",
   "execution_count": 4,
   "metadata": {},
   "outputs": [
    {
     "name": "stdout",
     "output_type": "stream",
     "text": [
      "test_df Shape: (109435, 17)\n"
     ]
    },
    {
     "data": {
      "text/html": [
       "<div>\n",
       "<style scoped>\n",
       "    .dataframe tbody tr th:only-of-type {\n",
       "        vertical-align: middle;\n",
       "    }\n",
       "\n",
       "    .dataframe tbody tr th {\n",
       "        vertical-align: top;\n",
       "    }\n",
       "\n",
       "    .dataframe thead th {\n",
       "        text-align: right;\n",
       "    }\n",
       "</style>\n",
       "<table border=\"1\" class=\"dataframe\">\n",
       "  <thead>\n",
       "    <tr style=\"text-align: right;\">\n",
       "      <th></th>\n",
       "      <th>LoanID</th>\n",
       "      <th>Age</th>\n",
       "      <th>Income</th>\n",
       "      <th>LoanAmount</th>\n",
       "      <th>CreditScore</th>\n",
       "      <th>MonthsEmployed</th>\n",
       "      <th>NumCreditLines</th>\n",
       "      <th>InterestRate</th>\n",
       "      <th>LoanTerm</th>\n",
       "      <th>DTIRatio</th>\n",
       "      <th>Education</th>\n",
       "      <th>EmploymentType</th>\n",
       "      <th>MaritalStatus</th>\n",
       "      <th>HasMortgage</th>\n",
       "      <th>HasDependents</th>\n",
       "      <th>LoanPurpose</th>\n",
       "      <th>HasCoSigner</th>\n",
       "    </tr>\n",
       "  </thead>\n",
       "  <tbody>\n",
       "    <tr>\n",
       "      <th>0</th>\n",
       "      <td>7RYZGMKJIR</td>\n",
       "      <td>32</td>\n",
       "      <td>131645</td>\n",
       "      <td>43797</td>\n",
       "      <td>802</td>\n",
       "      <td>23</td>\n",
       "      <td>2</td>\n",
       "      <td>6.10</td>\n",
       "      <td>24</td>\n",
       "      <td>0.13</td>\n",
       "      <td>High School</td>\n",
       "      <td>Full-time</td>\n",
       "      <td>Divorced</td>\n",
       "      <td>Yes</td>\n",
       "      <td>No</td>\n",
       "      <td>Other</td>\n",
       "      <td>No</td>\n",
       "    </tr>\n",
       "    <tr>\n",
       "      <th>1</th>\n",
       "      <td>JDL5RH07AM</td>\n",
       "      <td>61</td>\n",
       "      <td>134312</td>\n",
       "      <td>18402</td>\n",
       "      <td>369</td>\n",
       "      <td>87</td>\n",
       "      <td>2</td>\n",
       "      <td>12.99</td>\n",
       "      <td>60</td>\n",
       "      <td>0.59</td>\n",
       "      <td>High School</td>\n",
       "      <td>Self-employed</td>\n",
       "      <td>Single</td>\n",
       "      <td>No</td>\n",
       "      <td>No</td>\n",
       "      <td>Business</td>\n",
       "      <td>Yes</td>\n",
       "    </tr>\n",
       "    <tr>\n",
       "      <th>2</th>\n",
       "      <td>STAL716Y79</td>\n",
       "      <td>55</td>\n",
       "      <td>115809</td>\n",
       "      <td>151774</td>\n",
       "      <td>563</td>\n",
       "      <td>3</td>\n",
       "      <td>3</td>\n",
       "      <td>5.51</td>\n",
       "      <td>48</td>\n",
       "      <td>0.82</td>\n",
       "      <td>Bachelor's</td>\n",
       "      <td>Full-time</td>\n",
       "      <td>Single</td>\n",
       "      <td>Yes</td>\n",
       "      <td>Yes</td>\n",
       "      <td>Other</td>\n",
       "      <td>Yes</td>\n",
       "    </tr>\n",
       "    <tr>\n",
       "      <th>3</th>\n",
       "      <td>SO0KKJ3IQB</td>\n",
       "      <td>58</td>\n",
       "      <td>94970</td>\n",
       "      <td>55789</td>\n",
       "      <td>337</td>\n",
       "      <td>24</td>\n",
       "      <td>1</td>\n",
       "      <td>23.93</td>\n",
       "      <td>36</td>\n",
       "      <td>0.77</td>\n",
       "      <td>Bachelor's</td>\n",
       "      <td>Unemployed</td>\n",
       "      <td>Divorced</td>\n",
       "      <td>No</td>\n",
       "      <td>No</td>\n",
       "      <td>Business</td>\n",
       "      <td>No</td>\n",
       "    </tr>\n",
       "    <tr>\n",
       "      <th>4</th>\n",
       "      <td>T99CWTYDCP</td>\n",
       "      <td>63</td>\n",
       "      <td>71727</td>\n",
       "      <td>189798</td>\n",
       "      <td>451</td>\n",
       "      <td>52</td>\n",
       "      <td>3</td>\n",
       "      <td>22.05</td>\n",
       "      <td>48</td>\n",
       "      <td>0.44</td>\n",
       "      <td>PhD</td>\n",
       "      <td>Unemployed</td>\n",
       "      <td>Single</td>\n",
       "      <td>Yes</td>\n",
       "      <td>No</td>\n",
       "      <td>Auto</td>\n",
       "      <td>No</td>\n",
       "    </tr>\n",
       "  </tbody>\n",
       "</table>\n",
       "</div>"
      ],
      "text/plain": [
       "       LoanID  Age  Income  LoanAmount  CreditScore  MonthsEmployed  \\\n",
       "0  7RYZGMKJIR   32  131645       43797          802              23   \n",
       "1  JDL5RH07AM   61  134312       18402          369              87   \n",
       "2  STAL716Y79   55  115809      151774          563               3   \n",
       "3  SO0KKJ3IQB   58   94970       55789          337              24   \n",
       "4  T99CWTYDCP   63   71727      189798          451              52   \n",
       "\n",
       "   NumCreditLines  InterestRate  LoanTerm  DTIRatio    Education  \\\n",
       "0               2          6.10        24      0.13  High School   \n",
       "1               2         12.99        60      0.59  High School   \n",
       "2               3          5.51        48      0.82   Bachelor's   \n",
       "3               1         23.93        36      0.77   Bachelor's   \n",
       "4               3         22.05        48      0.44          PhD   \n",
       "\n",
       "  EmploymentType MaritalStatus HasMortgage HasDependents LoanPurpose  \\\n",
       "0      Full-time      Divorced         Yes            No       Other   \n",
       "1  Self-employed        Single          No            No    Business   \n",
       "2      Full-time        Single         Yes           Yes       Other   \n",
       "3     Unemployed      Divorced          No            No    Business   \n",
       "4     Unemployed        Single         Yes            No        Auto   \n",
       "\n",
       "  HasCoSigner  \n",
       "0          No  \n",
       "1         Yes  \n",
       "2         Yes  \n",
       "3          No  \n",
       "4          No  "
      ]
     },
     "execution_count": 4,
     "metadata": {},
     "output_type": "execute_result"
    }
   ],
   "source": [
    "test_df = pd.read_csv(\"test.csv\")\n",
    "print('test_df Shape:', test_df.shape)\n",
    "test_df.head()"
   ]
  },
  {
   "cell_type": "markdown",
   "metadata": {},
   "source": [
    "## Exploring, Cleaning, Validating, and Visualizing the Data\n",
    "\n",
    "We will first explore, validate and visualize the data, and if need occurs, we will clean it too.<br>\n",
    "Let's first start with the description of the data."
   ]
  },
  {
   "cell_type": "code",
   "execution_count": 5,
   "metadata": {},
   "outputs": [
    {
     "data": {
      "text/html": [
       "<div>\n",
       "<style scoped>\n",
       "    .dataframe tbody tr th:only-of-type {\n",
       "        vertical-align: middle;\n",
       "    }\n",
       "\n",
       "    .dataframe tbody tr th {\n",
       "        vertical-align: top;\n",
       "    }\n",
       "\n",
       "    .dataframe thead th {\n",
       "        text-align: right;\n",
       "    }\n",
       "</style>\n",
       "<table border=\"1\" class=\"dataframe\">\n",
       "  <thead>\n",
       "    <tr style=\"text-align: right;\">\n",
       "      <th></th>\n",
       "      <th>Age</th>\n",
       "      <th>Income</th>\n",
       "      <th>LoanAmount</th>\n",
       "      <th>CreditScore</th>\n",
       "      <th>MonthsEmployed</th>\n",
       "      <th>NumCreditLines</th>\n",
       "      <th>InterestRate</th>\n",
       "      <th>LoanTerm</th>\n",
       "      <th>DTIRatio</th>\n",
       "      <th>Default</th>\n",
       "    </tr>\n",
       "  </thead>\n",
       "  <tbody>\n",
       "    <tr>\n",
       "      <th>count</th>\n",
       "      <td>255347.000000</td>\n",
       "      <td>255347.000000</td>\n",
       "      <td>255347.000000</td>\n",
       "      <td>255347.000000</td>\n",
       "      <td>255347.000000</td>\n",
       "      <td>255347.000000</td>\n",
       "      <td>255347.000000</td>\n",
       "      <td>255347.000000</td>\n",
       "      <td>255347.000000</td>\n",
       "      <td>255347.000000</td>\n",
       "    </tr>\n",
       "    <tr>\n",
       "      <th>mean</th>\n",
       "      <td>43.498306</td>\n",
       "      <td>82499.304597</td>\n",
       "      <td>127578.865512</td>\n",
       "      <td>574.264346</td>\n",
       "      <td>59.541976</td>\n",
       "      <td>2.501036</td>\n",
       "      <td>13.492773</td>\n",
       "      <td>36.025894</td>\n",
       "      <td>0.500212</td>\n",
       "      <td>0.116128</td>\n",
       "    </tr>\n",
       "    <tr>\n",
       "      <th>std</th>\n",
       "      <td>14.990258</td>\n",
       "      <td>38963.013729</td>\n",
       "      <td>70840.706142</td>\n",
       "      <td>158.903867</td>\n",
       "      <td>34.643376</td>\n",
       "      <td>1.117018</td>\n",
       "      <td>6.636443</td>\n",
       "      <td>16.969330</td>\n",
       "      <td>0.230917</td>\n",
       "      <td>0.320379</td>\n",
       "    </tr>\n",
       "    <tr>\n",
       "      <th>min</th>\n",
       "      <td>18.000000</td>\n",
       "      <td>15000.000000</td>\n",
       "      <td>5000.000000</td>\n",
       "      <td>300.000000</td>\n",
       "      <td>0.000000</td>\n",
       "      <td>1.000000</td>\n",
       "      <td>2.000000</td>\n",
       "      <td>12.000000</td>\n",
       "      <td>0.100000</td>\n",
       "      <td>0.000000</td>\n",
       "    </tr>\n",
       "    <tr>\n",
       "      <th>25%</th>\n",
       "      <td>31.000000</td>\n",
       "      <td>48825.500000</td>\n",
       "      <td>66156.000000</td>\n",
       "      <td>437.000000</td>\n",
       "      <td>30.000000</td>\n",
       "      <td>2.000000</td>\n",
       "      <td>7.770000</td>\n",
       "      <td>24.000000</td>\n",
       "      <td>0.300000</td>\n",
       "      <td>0.000000</td>\n",
       "    </tr>\n",
       "    <tr>\n",
       "      <th>50%</th>\n",
       "      <td>43.000000</td>\n",
       "      <td>82466.000000</td>\n",
       "      <td>127556.000000</td>\n",
       "      <td>574.000000</td>\n",
       "      <td>60.000000</td>\n",
       "      <td>2.000000</td>\n",
       "      <td>13.460000</td>\n",
       "      <td>36.000000</td>\n",
       "      <td>0.500000</td>\n",
       "      <td>0.000000</td>\n",
       "    </tr>\n",
       "    <tr>\n",
       "      <th>75%</th>\n",
       "      <td>56.000000</td>\n",
       "      <td>116219.000000</td>\n",
       "      <td>188985.000000</td>\n",
       "      <td>712.000000</td>\n",
       "      <td>90.000000</td>\n",
       "      <td>3.000000</td>\n",
       "      <td>19.250000</td>\n",
       "      <td>48.000000</td>\n",
       "      <td>0.700000</td>\n",
       "      <td>0.000000</td>\n",
       "    </tr>\n",
       "    <tr>\n",
       "      <th>max</th>\n",
       "      <td>69.000000</td>\n",
       "      <td>149999.000000</td>\n",
       "      <td>249999.000000</td>\n",
       "      <td>849.000000</td>\n",
       "      <td>119.000000</td>\n",
       "      <td>4.000000</td>\n",
       "      <td>25.000000</td>\n",
       "      <td>60.000000</td>\n",
       "      <td>0.900000</td>\n",
       "      <td>1.000000</td>\n",
       "    </tr>\n",
       "  </tbody>\n",
       "</table>\n",
       "</div>"
      ],
      "text/plain": [
       "                 Age         Income     LoanAmount    CreditScore  \\\n",
       "count  255347.000000  255347.000000  255347.000000  255347.000000   \n",
       "mean       43.498306   82499.304597  127578.865512     574.264346   \n",
       "std        14.990258   38963.013729   70840.706142     158.903867   \n",
       "min        18.000000   15000.000000    5000.000000     300.000000   \n",
       "25%        31.000000   48825.500000   66156.000000     437.000000   \n",
       "50%        43.000000   82466.000000  127556.000000     574.000000   \n",
       "75%        56.000000  116219.000000  188985.000000     712.000000   \n",
       "max        69.000000  149999.000000  249999.000000     849.000000   \n",
       "\n",
       "       MonthsEmployed  NumCreditLines   InterestRate       LoanTerm  \\\n",
       "count   255347.000000   255347.000000  255347.000000  255347.000000   \n",
       "mean        59.541976        2.501036      13.492773      36.025894   \n",
       "std         34.643376        1.117018       6.636443      16.969330   \n",
       "min          0.000000        1.000000       2.000000      12.000000   \n",
       "25%         30.000000        2.000000       7.770000      24.000000   \n",
       "50%         60.000000        2.000000      13.460000      36.000000   \n",
       "75%         90.000000        3.000000      19.250000      48.000000   \n",
       "max        119.000000        4.000000      25.000000      60.000000   \n",
       "\n",
       "            DTIRatio        Default  \n",
       "count  255347.000000  255347.000000  \n",
       "mean        0.500212       0.116128  \n",
       "std         0.230917       0.320379  \n",
       "min         0.100000       0.000000  \n",
       "25%         0.300000       0.000000  \n",
       "50%         0.500000       0.000000  \n",
       "75%         0.700000       0.000000  \n",
       "max         0.900000       1.000000  "
      ]
     },
     "execution_count": 5,
     "metadata": {},
     "output_type": "execute_result"
    }
   ],
   "source": [
    "# your code here (optional)\n",
    "train_df.describe()"
   ]
  },
  {
   "cell_type": "markdown",
   "metadata": {},
   "source": [
    "Everything looks pretty much straight forward.<br>\n",
    "<br>\n",
    "Let's check if there are any missing values in any of the columns."
   ]
  },
  {
   "cell_type": "code",
   "execution_count": 6,
   "metadata": {},
   "outputs": [
    {
     "data": {
      "text/plain": [
       "LoanID            0\n",
       "Age               0\n",
       "Income            0\n",
       "LoanAmount        0\n",
       "CreditScore       0\n",
       "MonthsEmployed    0\n",
       "NumCreditLines    0\n",
       "InterestRate      0\n",
       "LoanTerm          0\n",
       "DTIRatio          0\n",
       "Education         0\n",
       "EmploymentType    0\n",
       "MaritalStatus     0\n",
       "HasMortgage       0\n",
       "HasDependents     0\n",
       "LoanPurpose       0\n",
       "HasCoSigner       0\n",
       "Default           0\n",
       "dtype: int64"
      ]
     },
     "execution_count": 6,
     "metadata": {},
     "output_type": "execute_result"
    }
   ],
   "source": [
    "# Checking for any missing values\n",
    "train_df.isna().sum()"
   ]
  },
  {
   "cell_type": "markdown",
   "metadata": {},
   "source": [
    "No missing values. Great!<br>\n",
    "<br>\n",
    "Let's check if there are any duplicate rows in the dataset."
   ]
  },
  {
   "cell_type": "code",
   "execution_count": 7,
   "metadata": {},
   "outputs": [
    {
     "name": "stdout",
     "output_type": "stream",
     "text": [
      "Number of duplicate rows: 0\n"
     ]
    }
   ],
   "source": [
    "# Checking for any duplicate values\n",
    "print(\"Number of duplicate rows:\", train_df.drop(columns=['LoanID', 'Default']).duplicated().sum())"
   ]
  },
  {
   "cell_type": "markdown",
   "metadata": {},
   "source": [
    "No duplicate values either.<br>\n",
    "\n",
    "Finally, let's check for any outliers in the continuous type variables. I will be using boxplot to visualize which variables have outliers."
   ]
  },
  {
   "cell_type": "code",
   "execution_count": 8,
   "metadata": {
    "scrolled": false
   },
   "outputs": [
    {
     "data": {
      "image/png": "[encoded data removed]",
      "text/plain": [
       "<Figure size 1440x3888 with 18 Axes>"
      ]
     },
     "metadata": {
      "needs_background": "light"
     },
     "output_type": "display_data"
    }
   ],
   "source": [
    "# Checking for outliers in different variables using a boxplot and checking for the kind of distribution using histogram\n",
    "fig, axs = plt.subplots(nrows=9, ncols=2, figsize=(20,54))\n",
    "\n",
    "axs[0][0].boxplot(x=train_df['Age'], vert=False)\n",
    "axs[0][0].set_title('Age')\n",
    "axs[0][1].hist(x=train_df['Age'])\n",
    "axs[0][1].set_title('Age')\n",
    "\n",
    "axs[1][0].boxplot(x=train_df['Income'], vert=False)\n",
    "axs[1][0].set_title('Income')\n",
    "axs[1][1].hist(x=train_df['Income'])\n",
    "axs[1][1].set_title('Income')\n",
    "\n",
    "axs[2][0].boxplot(x=train_df['LoanAmount'], vert=False)\n",
    "axs[2][0].set_title('Loan Amount')\n",
    "axs[2][1].hist(x=train_df['LoanAmount'])\n",
    "axs[2][1].set_title('Loan Amount')\n",
    "\n",
    "axs[3][0].boxplot(x=train_df['CreditScore'], vert=False)\n",
    "axs[3][0].set_title('Credit Score')\n",
    "axs[3][1].hist(x=train_df['CreditScore'])\n",
    "axs[3][1].set_title('Credit Score')\n",
    "\n",
    "axs[4][0].boxplot(x=train_df['MonthsEmployed'], vert=False)\n",
    "axs[4][0].set_title('Months Employed')\n",
    "axs[4][1].hist(x=train_df['MonthsEmployed'])\n",
    "axs[4][1].set_title('Months Employed')\n",
    "\n",
    "axs[5][0].boxplot(x=train_df['NumCreditLines'], vert=False)\n",
    "axs[5][0].set_title('Num Credit Lines')\n",
    "axs[5][1].hist(x=train_df['NumCreditLines'])\n",
    "axs[5][1].set_title('Num Credit Lines')\n",
    "\n",
    "axs[6][0].boxplot(x=train_df['InterestRate'], vert=False)\n",
    "axs[6][0].set_title('Interest Rate')\n",
    "axs[6][1].hist(x=train_df['InterestRate'])\n",
    "axs[6][1].set_title('Interest Rate')\n",
    "\n",
    "axs[7][0].boxplot(x=train_df['LoanTerm'], vert=False)\n",
    "axs[7][0].set_title('Loan Term')\n",
    "axs[7][1].hist(x=train_df['LoanTerm'])\n",
    "axs[7][1].set_title('Loan Term')\n",
    "\n",
    "axs[8][0].boxplot(x=train_df['DTIRatio'], vert=False)\n",
    "axs[8][0].set_title('DTI Ratio')\n",
    "axs[8][1].hist(x=train_df['DTIRatio'])\n",
    "axs[8][1].set_title('DTI Ratio')\n",
    "\n",
    "plt.show()"
   ]
  },
  {
   "cell_type": "markdown",
   "metadata": {},
   "source": [
    "Seems like there are no outliers in any of the continuous variables.<br>\n",
    "<br>\n",
    "I have checked the distribution for all the independent variables. Now, let's check the distribution in our dependent variable."
   ]
  },
  {
   "cell_type": "code",
   "execution_count": 9,
   "metadata": {},
   "outputs": [
    {
     "data": {
      "text/plain": [
       "0    225694\n",
       "1     29653\n",
       "Name: Default, dtype: int64"
      ]
     },
     "metadata": {},
     "output_type": "display_data"
    },
    {
     "data": {
      "text/plain": [
       "0    88.387175\n",
       "1    11.612825\n",
       "Name: Default, dtype: float64"
      ]
     },
     "metadata": {},
     "output_type": "display_data"
    }
   ],
   "source": [
    "# Checking for any imbalance in the dependent variable\n",
    "display(train_df['Default'].value_counts())\n",
    "display(train_df['Default'].value_counts(normalize=True)*100)"
   ]
  },
  {
   "cell_type": "markdown",
   "metadata": {},
   "source": [
    "Seems like there is a class imbalance in the dependent variable:\n",
    "* ~88% of the people did not default.\n",
    "* ~12% of the people have defaulted."
   ]
  },
  {
   "cell_type": "markdown",
   "metadata": {},
   "source": [
    "### Dealing with Class Imabalance\n",
    "\n",
    "The class imbalance does exist.\n",
    "There are more people who did not default (\\~82%) and there are less people who defaulted (\\~18%).\n",
    "We will increase the sample of people who have defaulted using SMOTE."
   ]
  },
  {
   "cell_type": "code",
   "execution_count": 11,
   "metadata": {},
   "outputs": [],
   "source": [
    "# Pre-processing the dataset before balancing the imbalance dataset using over-sampling using SMOTE\n",
    "# Creating a copy so that the original dataset is untouched\n",
    "train_df1 = train_df.copy()\n",
    "\n",
    "\n",
    "# Creating a new column : LTIRatio that captures Loan Amount to Income Ratio\n",
    "train_df1['LTIRatio'] = train_df1['LoanAmount'] / train_df1['Income']\n",
    "\n",
    "\n",
    "# Scaling all continuous data tyoe columns\n",
    "# Scaling Age in the range (0,1)\n",
    "age_scaler = MinMaxScaler(feature_range=(0,1), clip=True)\n",
    "age_scaler.fit(train_df1[['Age']])\n",
    "train_df1['Age'] = age_scaler.transform(train_df1[['Age']])\n",
    "\n",
    "# Scaling Income in the range (0,1)\n",
    "income_scaler = MinMaxScaler(feature_range=(0,1), clip=True)\n",
    "income_scaler.fit(train_df1[['Income']])\n",
    "train_df1['Income'] = income_scaler.transform(train_df1[['Income']])\n",
    "\n",
    "# Scaling LoanAmount in the range (0,1)\n",
    "loanamount_scaler = MinMaxScaler(feature_range=(0,1), clip=True)\n",
    "loanamount_scaler.fit(train_df1[['LoanAmount']])\n",
    "train_df1['LoanAmount'] = loanamount_scaler.transform(train_df1[['LoanAmount']])\n",
    "\n",
    "# Scaling CreditScore in the range (0,1)\n",
    "creditscore_scaler = MinMaxScaler(feature_range=(0,1), clip=True)\n",
    "creditscore_scaler.fit(train_df1[['CreditScore']])\n",
    "train_df1['CreditScore'] = creditscore_scaler.transform(train_df1[['CreditScore']])\n",
    "\n",
    "# Scaling MonthsEmployed in the range (0,1)\n",
    "monthsemployed_scaler = MinMaxScaler(feature_range=(0,1), clip=True)\n",
    "monthsemployed_scaler.fit(train_df1[['MonthsEmployed']])\n",
    "train_df1['MonthsEmployed'] = monthsemployed_scaler.transform(train_df1[['MonthsEmployed']])\n",
    "\n",
    "# Scaling NumCreditLines in the range (0,1)\n",
    "numcreditlines_scaler = MinMaxScaler(feature_range=(0,1), clip=True)\n",
    "numcreditlines_scaler.fit(train_df1[['NumCreditLines']])\n",
    "train_df1['NumCreditLines'] = numcreditlines_scaler.transform(train_df1[['NumCreditLines']])\n",
    "\n",
    "# Scaling InterestRates in the range (0,1)\n",
    "interestrates_scaler = MinMaxScaler(feature_range=(0,1), clip=True)\n",
    "interestrates_scaler.fit(train_df1[['InterestRate']])\n",
    "train_df1['InterestRate'] = interestrates_scaler.transform(train_df1[['InterestRate']])\n",
    "\n",
    "# Scaling LoanTerm in the range (0,1)\n",
    "loanterm_scaler = MinMaxScaler(feature_range=(0,1), clip=True)\n",
    "loanterm_scaler.fit(train_df1[['LoanTerm']])\n",
    "train_df1['LoanTerm'] = loanterm_scaler.transform(train_df1[['LoanTerm']])\n",
    "\n",
    "# Scaling LTIRatio in the range (0,1)\n",
    "ltiratio_scaler = MinMaxScaler(feature_range=(0,1), clip=True)\n",
    "ltiratio_scaler.fit(train_df1[['LTIRatio']])\n",
    "train_df1['LTIRatio'] = ltiratio_scaler.transform(train_df1[['LTIRatio']])\n",
    "\n",
    "# Converting hierarchical categorical variables into numerical using mapping\n",
    "# Mapping and converting HasMortgage\n",
    "mapping = {'No':0, 'Yes':1}\n",
    "train_df1['HasMortgage'] = train_df1['HasMortgage'].map(mapping)\n",
    "\n",
    "# Mapping and converting HasDependents\n",
    "mapping = {'No':0, 'Yes':1}\n",
    "train_df1['HasDependents'] = train_df1['HasDependents'].map(mapping)\n",
    "\n",
    "# Mapping and converting HasCoSigner\n",
    "mapping = {'No':0, 'Yes':1}\n",
    "train_df1['HasCoSigner'] = train_df1['HasCoSigner'].map(mapping)\n",
    "\n",
    "\n",
    "# Converting non-hierarchical categorical variables into numerical using get_dummies\n",
    "train_df1 = pd.get_dummies(train_df1, columns=['Education', 'EmploymentType', 'MaritalStatus', 'LoanPurpose'])\n",
    "\n",
    "\n",
    "# bifurcating dependent and independent variables\n",
    "train_df1_X = train_df1.drop(columns=['LoanID', 'Default'])\n",
    "train_df1_y = train_df1['Default']"
   ]
  },
  {
   "cell_type": "markdown",
   "metadata": {},
   "source": [
    "Let's install `imblearn` package to import `smote` which will generate synthetic data for people who have defaulted. This will provide the require class balance in our dataset."
   ]
  },
  {
   "cell_type": "code",
   "execution_count": 3,
   "metadata": {},
   "outputs": [
    {
     "name": "stdout",
     "output_type": "stream",
     "text": [
      "Collecting imblearn\n",
      "  Obtaining dependency information for imblearn from https://files.pythonhosted.org/packages/81/a7/4179e6ebfd654bd0eac0b9c06125b8b4c96a9d0a8ff9e9507eb2a26d2d7e/imblearn-0.0-py2.py3-none-any.whl.metadata\n",
      "  Downloading imblearn-0.0-py2.py3-none-any.whl.metadata (355 bytes)\n",
      "Collecting imbalanced-learn (from imblearn)\n",
      "  Obtaining dependency information for imbalanced-learn from https://files.pythonhosted.org/packages/d8/0d/c3bfccc5d460eec8ff56889802aa88f5d07280d5282b307a74558e6edc44/imbalanced_learn-0.12.4-py3-none-any.whl.metadata\n",
      "  Downloading imbalanced_learn-0.12.4-py3-none-any.whl.metadata (8.3 kB)\n",
      "Requirement already satisfied: numpy>=1.17.3 in /opt/conda/lib/python3.7/site-packages (from imbalanced-learn->imblearn) (1.18.4)\n",
      "Collecting scipy>=1.5.0 (from imbalanced-learn->imblearn)\n",
      "  Obtaining dependency information for scipy>=1.5.0 from https://files.pythonhosted.org/packages/58/4f/11f34cfc57ead25752a7992b069c36f5d18421958ebd6466ecd849aeaf86/scipy-1.7.3-cp37-cp37m-manylinux_2_12_x86_64.manylinux2010_x86_64.whl.metadata\n",
      "  Downloading scipy-1.7.3-cp37-cp37m-manylinux_2_12_x86_64.manylinux2010_x86_64.whl.metadata (2.2 kB)\n",
      "Collecting scikit-learn>=1.0.2 (from imbalanced-learn->imblearn)\n",
      "  Obtaining dependency information for scikit-learn>=1.0.2 from https://files.pythonhosted.org/packages/bd/05/e561bc99a615b5c099c7a9355409e5e57c525a108f1c2e156abb005b90a6/scikit_learn-1.0.2-cp37-cp37m-manylinux_2_17_x86_64.manylinux2014_x86_64.whl.metadata\n",
      "  Downloading scikit_learn-1.0.2-cp37-cp37m-manylinux_2_17_x86_64.manylinux2014_x86_64.whl.metadata (10 kB)\n",
      "Collecting joblib>=1.1.1 (from imbalanced-learn->imblearn)\n",
      "  Obtaining dependency information for joblib>=1.1.1 from https://files.pythonhosted.org/packages/10/40/d551139c85db202f1f384ba8bcf96aca2f329440a844f924c8a0040b6d02/joblib-1.3.2-py3-none-any.whl.metadata\n",
      "  Downloading joblib-1.3.2-py3-none-any.whl.metadata (5.4 kB)\n",
      "Collecting threadpoolctl>=2.0.0 (from imbalanced-learn->imblearn)\n",
      "  Obtaining dependency information for threadpoolctl>=2.0.0 from https://files.pythonhosted.org/packages/61/cf/6e354304bcb9c6413c4e02a747b600061c21d38ba51e7e544ac7bc66aecc/threadpoolctl-3.1.0-py3-none-any.whl.metadata\n",
      "  Downloading threadpoolctl-3.1.0-py3-none-any.whl.metadata (9.2 kB)\n",
      "Downloading imblearn-0.0-py2.py3-none-any.whl (1.9 kB)\n",
      "Downloading imbalanced_learn-0.12.4-py3-none-any.whl (258 kB)\n",
      "\u001b[2K   \u001b[90m━━━━━━━━━━━━━━━━━━━━━━━━━━━━━━━━━━━━━━━━\u001b[0m \u001b[32m258.3/258.3 kB\u001b[0m \u001b[31m77.5 MB/s\u001b[0m eta \u001b[36m0:00:00\u001b[0m\n",
      "\u001b[?25hDownloading joblib-1.3.2-py3-none-any.whl (302 kB)\n",
      "\u001b[2K   \u001b[90m━━━━━━━━━━━━━━━━━━━━━━━━━━━━━━━━━━━━━━━\u001b[0m \u001b[32m302.2/302.2 kB\u001b[0m \u001b[31m100.1 MB/s\u001b[0m eta \u001b[36m0:00:00\u001b[0m\n",
      "\u001b[?25hDownloading scikit_learn-1.0.2-cp37-cp37m-manylinux_2_17_x86_64.manylinux2014_x86_64.whl (24.8 MB)\n",
      "\u001b[2K   \u001b[90m━━━━━━━━━━━━━━━━━━━━━━━━━━━━━━━━━━━━━━━━\u001b[0m \u001b[32m24.8/24.8 MB\u001b[0m \u001b[31m71.5 MB/s\u001b[0m eta \u001b[36m0:00:00\u001b[0m:00:01\u001b[0m00:01\u001b[0m\n",
      "\u001b[?25hDownloading scipy-1.7.3-cp37-cp37m-manylinux_2_12_x86_64.manylinux2010_x86_64.whl (38.1 MB)\n",
      "\u001b[2K   \u001b[90m━━━━━━━━━━━━━━━━━━━━━━━━━━━━━━━━━━━━━━━━\u001b[0m \u001b[32m38.1/38.1 MB\u001b[0m \u001b[31m57.1 MB/s\u001b[0m eta \u001b[36m0:00:00\u001b[0m:00:01\u001b[0m00:01\u001b[0m\n",
      "\u001b[?25hDownloading threadpoolctl-3.1.0-py3-none-any.whl (14 kB)\n",
      "Installing collected packages: threadpoolctl, scipy, joblib, scikit-learn, imbalanced-learn, imblearn\n",
      "  Attempting uninstall: scipy\n",
      "    Found existing installation: scipy 1.4.1\n",
      "    Uninstalling scipy-1.4.1:\n",
      "      Successfully uninstalled scipy-1.4.1\n",
      "  Attempting uninstall: joblib\n",
      "    Found existing installation: joblib 0.14.1\n",
      "    Uninstalling joblib-0.14.1:\n",
      "      Successfully uninstalled joblib-0.14.1\n",
      "  Attempting uninstall: scikit-learn\n",
      "    Found existing installation: scikit-learn 0.22.2.post1\n",
      "    Uninstalling scikit-learn-0.22.2.post1:\n",
      "      Successfully uninstalled scikit-learn-0.22.2.post1\n",
      "\u001b[31mERROR: pip's dependency resolver does not currently take into account all the packages that are installed. This behaviour is the source of the following dependency conflicts.\n",
      "tensorflow 2.1.0 requires scipy==1.4.1; python_version >= \"3\", but you have scipy 1.7.3 which is incompatible.\u001b[0m\u001b[31m\n",
      "\u001b[0mSuccessfully installed imbalanced-learn-0.12.4 imblearn-0.0 joblib-1.3.2 scikit-learn-1.0.2 scipy-1.7.3 threadpoolctl-3.1.0\n",
      "\n",
      "\u001b[1m[\u001b[0m\u001b[34;49mnotice\u001b[0m\u001b[1;39;49m]\u001b[0m\u001b[39;49m A new release of pip is available: \u001b[0m\u001b[31;49m23.2.1\u001b[0m\u001b[39;49m -> \u001b[0m\u001b[32;49m24.0\u001b[0m\n",
      "\u001b[1m[\u001b[0m\u001b[34;49mnotice\u001b[0m\u001b[1;39;49m]\u001b[0m\u001b[39;49m To update, run: \u001b[0m\u001b[32;49mpip install --upgrade pip\u001b[0m\n"
     ]
    }
   ],
   "source": [
    "# Installing imblearn module\n",
    "!pip install imblearn"
   ]
  },
  {
   "cell_type": "code",
   "execution_count": 13,
   "metadata": {},
   "outputs": [],
   "source": [
    "# Using SMOTE to over-sample the unbalanced class\n",
    "from imblearn.over_sampling import SMOTE\n",
    "\n",
    "# oversampling using SMOTE to balance the class\n",
    "smote = SMOTE(sampling_strategy='minority')\n",
    "X_resampled, y_resampled = smote.fit_resample(train_df1_X, train_df1_y)"
   ]
  },
  {
   "cell_type": "code",
   "execution_count": 14,
   "metadata": {},
   "outputs": [
    {
     "data": {
      "text/plain": [
       "1    225694\n",
       "0    225694\n",
       "Name: Default, dtype: int64"
      ]
     },
     "execution_count": 14,
     "metadata": {},
     "output_type": "execute_result"
    }
   ],
   "source": [
    "# Checking for imbalance now\n",
    "y_resampled.value_counts()"
   ]
  },
  {
   "cell_type": "markdown",
   "metadata": {},
   "source": [
    "We can see that now there are equal number of people i.e. 2,25,694 in each of the class (people who have defaulted and people who didn't default).<br>\n",
    "<br>\n",
    "Now that we have a balanced dataset to start with, let's split the given data into training and testing datasets.<br>\n",
    "**Note:** These two training and testing datasets will be split from the origina; `train_df` dataset provided."
   ]
  },
  {
   "cell_type": "markdown",
   "metadata": {},
   "source": [
    "### Making a common training dataset and a testing dataset for all 4 Machine Learning Models"
   ]
  },
  {
   "cell_type": "code",
   "execution_count": 15,
   "metadata": {},
   "outputs": [],
   "source": [
    "# Creating a training and a testing dataset so that we can compare results of different Machnine Learning Models\n",
    "X_train, X_test, y_train, y_test = train_test_split(X_resampled, y_resampled, test_size=0.2, stratify=y_resampled, random_state=42)"
   ]
  },
  {
   "cell_type": "markdown",
   "metadata": {},
   "source": [
    "### Logistic Regression\n",
    "\n",
    "Making a logistic Regression model and then tuning it to get the best parameters that produce the best ROC AUC Score."
   ]
  },
  {
   "cell_type": "code",
   "execution_count": null,
   "metadata": {},
   "outputs": [],
   "source": [
    "# Logistic Regression\n",
    "LogisticRegressionModel = LogisticRegression()"
   ]
  },
  {
   "cell_type": "code",
   "execution_count": null,
   "metadata": {},
   "outputs": [],
   "source": [
    "# Hyper-parameter tuning to find the best parameters\n",
    "param_grid = {\n",
    "    'penalty': ['l1', 'l2', 'elasticnet', None],\n",
    "    'C': [0.01, 0.1, 1, 10],\n",
    "    'solver': ['liblinear', 'saga'],\n",
    "    'l1_ratio': [0.5, 0.7],\n",
    "    'max_iter': [100, 200, 500]\n",
    "}\n",
    "\n",
    "grid_search_LR = GridSearchCV(estimator=LogisticRegressionModel,\n",
    "                           param_grid=param_grid,\n",
    "                           cv=5,\n",
    "                           scoring='roc_auc',\n",
    "                           n_jobs=-1,\n",
    "                           verbose=1)\n",
    "\n",
    "grid_search_LR.fit(X_train, y_train)"
   ]
  },
  {
   "cell_type": "markdown",
   "metadata": {},
   "source": [
    "Fitting 5 folds for each of 192 candidates, totalling 960 fits<br>\n",
    "CPU times: total: 2min 24s<br>\n",
    "Wall time: 2h 55min 23s"
   ]
  },
  {
   "cell_type": "code",
   "execution_count": null,
   "metadata": {},
   "outputs": [],
   "source": [
    "grid_search_LR.best_params_"
   ]
  },
  {
   "cell_type": "markdown",
   "metadata": {},
   "source": [
    "{'C': 0.1, 'l1_ratio': 0.7, 'max_iter': 500, 'penalty': None, 'solver': 'saga'}"
   ]
  },
  {
   "cell_type": "markdown",
   "metadata": {},
   "source": [
    "Following came out to be the best parameters for a Linear Regression Model that produces the best ROC AUC Score:\n",
    "1. C (Inverse of Regularization Strength) : 0.1\n",
    "2. l1_ratio : (Elastic-net mixing parameter) : 0.7\n",
    "3. max_iter (Max number of iterations taken for the solvers to converge) : 500\n",
    "4. penalty (Which Regularization method to use) : None\n",
    "5. solver (which algorithm to use in optimization problem) : 'saga'"
   ]
  },
  {
   "cell_type": "code",
   "execution_count": null,
   "metadata": {},
   "outputs": [],
   "source": [
    "LRModel_pred = grid_search_LR.predict(X_test)\n",
    "print(\"Recall :\", str(round(recall_score(y_test, LRModel_pred), 4)*100) + \"%\")\n",
    "print(\"Precision :\", str(round(precision_score(y_test, LRModel_pred), 4)*100) + \"%\")\n",
    "print(\"Accuracy :\", str(round(accuracy_score(y_test, LRModel_pred), 4)*100) + \"%\")\n",
    "print(\"F1 Score :\", str(round(f1_score(y_test, LRModel_pred), 4)*100) + \"%\")\n",
    "print(\"ROC AUC Score :\", str(round(roc_auc_score(y_test, LRModel_pred), 4)*100) + \"%\")"
   ]
  },
  {
   "cell_type": "markdown",
   "metadata": {},
   "source": [
    "Recall : 71.94%<br>\n",
    "Precision : 70.38%<br>\n",
    "Accuracy : 70.83%<br>\n",
    "F1 Score : 71.15%<br>\n",
    "ROC AUC Score : 70.83%"
   ]
  },
  {
   "cell_type": "markdown",
   "metadata": {},
   "source": [
    "### Decision Tree\n",
    "\n",
    "Making a Decision Tree model and then tuning it to get the best parameters that produce the best ROC AUC Score."
   ]
  },
  {
   "cell_type": "code",
   "execution_count": null,
   "metadata": {},
   "outputs": [],
   "source": [
    "# Decision Tree\n",
    "DecisionTreeModel = DecisionTreeClassifier()"
   ]
  },
  {
   "cell_type": "code",
   "execution_count": null,
   "metadata": {},
   "outputs": [],
   "source": [
    "%%time\n",
    "\n",
    "param_grid = {\n",
    "    'criterion': ['gini', 'entropy'],\n",
    "    'max_depth': [None, 5, 10, 15, 20],\n",
    "    'min_samples_split': [2, 5, 10],\n",
    "    'min_samples_leaf': [1, 2, 5],\n",
    "    'max_features': [None, 'sqrt', 'log2']\n",
    "}\n",
    "\n",
    "grid_search_DT = GridSearchCV(estimator=DecisionTreeModel,\n",
    "                              param_grid=param_grid,\n",
    "                              cv=5,\n",
    "                              scoring='roc_auc',\n",
    "                              n_jobs=-1,\n",
    "                              verbose=2)\n",
    "\n",
    "grid_search_DT.fit(X_train, y_train)"
   ]
  },
  {
   "cell_type": "markdown",
   "metadata": {},
   "source": [
    "Fitting 5 folds for each of 270 candidates, totalling 1350 fits<br>\n",
    "CPU times: total: 15.2 s<br>\n",
    "Wall time: 22min 47s"
   ]
  },
  {
   "cell_type": "code",
   "execution_count": null,
   "metadata": {},
   "outputs": [],
   "source": [
    "grid_search_DT.best_params_"
   ]
  },
  {
   "cell_type": "markdown",
   "metadata": {},
   "source": [
    "{'criterion': 'entropy',<br>\n",
    " 'max_depth': 20,<br>\n",
    " 'max_features': None,<br>\n",
    " 'min_samples_leaf': 5,<br>\n",
    " 'min_samples_split': 5}"
   ]
  },
  {
   "cell_type": "markdown",
   "metadata": {},
   "source": [
    "Following came out to be the best parameters for a Linear Regression Model that produces the best ROC AUC Score:\n",
    "1. criterion (Technique used to measure the quality of split) : 'entropy'\n",
    "2. max_depth (The maximum depth of the tree) : 20\n",
    "3. max_features (The maximum features to be considered when looking for the best split) : None\n",
    "4. min_samples_leaf (The minimum number of samples required to be at a leaf node) : 5\n",
    "5. min_samples_split (The minimum number of samples required to split an internal node) : 5"
   ]
  },
  {
   "cell_type": "code",
   "execution_count": null,
   "metadata": {},
   "outputs": [],
   "source": [
    "DTModel_pred = grid_search_DT.predict(X_test)\n",
    "print(\"Recall :\", str(round(recall_score(y_test, DTModel_pred), 4)*100) + \"%\")\n",
    "print(\"Precision :\", str(round(precision_score(y_test, DTModel_pred), 4)*100) + \"%\")\n",
    "print(\"Accuracy :\", str(round(accuracy_score(y_test, DTModel_pred), 4)*100) + \"%\")\n",
    "print(\"F1 Score :\", str(round(f1_score(y_test, DTModel_pred), 4)*100) + \"%\")\n",
    "print(\"ROC AUC Score :\", str(round(roc_auc_score(y_test, DTModel_pred), 4)*100) + \"%\")"
   ]
  },
  {
   "cell_type": "markdown",
   "metadata": {},
   "source": [
    "Recall : 83.28%<br>\n",
    "Precision : 89.25999999999999%<br>\n",
    "Accuracy : 85.31%<br>\n",
    "F1 Score : 84.53%<br>\n",
    "ROC AUC Score : 85.31%"
   ]
  },
  {
   "cell_type": "markdown",
   "metadata": {},
   "source": [
    "### Random Forest\n",
    "\n",
    "Making a Random Forest model and then tuning it to get the best parameters that produce the best ROC AUC Score."
   ]
  },
  {
   "cell_type": "code",
   "execution_count": null,
   "metadata": {},
   "outputs": [],
   "source": [
    "# Random Forest\n",
    "RandomForestModel = RandomForestClassifier()"
   ]
  },
  {
   "cell_type": "code",
   "execution_count": null,
   "metadata": {},
   "outputs": [],
   "source": [
    "%%time\n",
    "\n",
    "param_grid = {\n",
    "    'n_estimators': [100, 150, 200],\n",
    "    'max_features': ['sqrt', 'log2', None],\n",
    "    'max_depth': [10, 20, None],\n",
    "    'min_samples_leaf': [1, 2, 4],\n",
    "    'criterion': ['gini', 'entropy']\n",
    "}\n",
    "\n",
    "grid_search_RF = GridSearchCV(estimator=RandomForestModel,\n",
    "                              param_grid=param_grid,\n",
    "                              cv=5,\n",
    "                              scoring='roc_auc',\n",
    "                              n_jobs=-1,\n",
    "                              verbose=1)\n",
    "\n",
    "grid_search_RF.fit(X_train, y_train)"
   ]
  },
  {
   "cell_type": "markdown",
   "metadata": {},
   "source": [
    "Fitting 5 folds for each of 162 candidates, totalling 810 fits<br>\n",
    "CPU times: total: 18min 59s<br>\n",
    "Wall time: 26h 36min 47s"
   ]
  },
  {
   "cell_type": "code",
   "execution_count": null,
   "metadata": {},
   "outputs": [],
   "source": [
    "grid_search_RF.best_params_"
   ]
  },
  {
   "cell_type": "markdown",
   "metadata": {},
   "source": [
    "{'criterion': 'entropy',<br>\n",
    " 'max_depth': None,<br>\n",
    " 'max_features': 'sqrt',<br>\n",
    " 'min_samples_leaf': 1,<br>\n",
    " 'n_estimators': 200}"
   ]
  },
  {
   "cell_type": "markdown",
   "metadata": {},
   "source": [
    "Following came out to be the best parameters for a Linear Regression Model that produces the best ROC AUC Score:\n",
    "1. criterion (Technique used to measure the quality of split) : 'entropy'\n",
    "2. max_depth (The maximum depth of the tree) : None\n",
    "3. max_features (The maximum features to be considered when looking for the best split) : 'sqrt' (square root of the available features)\n",
    "4. min_samples_leaf (The minimum number of samples required to be at a leaf node) : 1\n",
    "5. n_estimators (The number of trees in the forest) : 200"
   ]
  },
  {
   "cell_type": "code",
   "execution_count": null,
   "metadata": {},
   "outputs": [],
   "source": [
    "RFModel_pred = grid_search_RF.predict(X_test)\n",
    "print(\"Recall :\", str(round(recall_score(y_test, RFModel_pred), 4)*100) + \"%\")\n",
    "print(\"Precision :\", str(round(precision_score(y_test, RFModel_pred), 4)*100) + \"%\")\n",
    "print(\"Accuracy :\", str(round(accuracy_score(y_test, RFModel_pred), 4)*100) + \"%\")\n",
    "print(\"F1 Score :\", str(round(f1_score(y_test, RFModel_pred), 4)*100) + \"%\")\n",
    "print(\"ROC AUC Score :\", str(round(roc_auc_score(y_test, RFModel_pred), 4)*100) + \"%\")"
   ]
  },
  {
   "cell_type": "markdown",
   "metadata": {},
   "source": [
    "Recall : 90.32%<br>\n",
    "Precision : 92.97999999999999%<br>\n",
    "Accuracy : 91.75%<br>\n",
    "F1 Score : 91.63%<br>\n",
    "ROC AUC Score : 91.75%"
   ]
  },
  {
   "cell_type": "markdown",
   "metadata": {},
   "source": [
    "### XGBoost\n",
    "\n",
    "Making a XGBoost model and then tuning it to get the best parameters that produce the best ROC AUC Score."
   ]
  },
  {
   "cell_type": "code",
   "execution_count": null,
   "metadata": {},
   "outputs": [],
   "source": [
    "# XGBoost\n",
    "XGBoostModel = XGBClassifier(\n",
    "    objective='binary:logistic',\n",
    "    eval_metric='logloss',\n",
    "    use_label_encoder=False,\n",
    "    n_jobs=-1,\n",
    "    random_state=42\n",
    ")"
   ]
  },
  {
   "cell_type": "code",
   "execution_count": null,
   "metadata": {},
   "outputs": [],
   "source": [
    "%%time\n",
    "\n",
    "param_grid = {\n",
    "    'n_estimators': [100, 200, 300],\n",
    "    'learning_rate': [0.1, 0.15, 0.2],\n",
    "    'max_depth': [3, 5, 7],\n",
    "    'min_child_weight': [1, 5],\n",
    "    'gamma': [0, 0.1],\n",
    "    'subsample': [0.8, 0.9],\n",
    "    'colsample_bytree': [0.8, 0.9],\n",
    "    'reg_alpha': [0, 0.01],\n",
    "    'reg_lambda': [1, 5]\n",
    "}\n",
    "\n",
    "grid_search_XGB = GridSearchCV(\n",
    "    estimator=XGBoostModel,\n",
    "    param_grid=param_grid,\n",
    "    cv=5,\n",
    "    scoring='roc_auc',\n",
    "    n_jobs=-1,\n",
    "    verbose=2,\n",
    "    return_train_score=True\n",
    ")\n",
    "\n",
    "grid_search_XGB.fit(X_train, y_train)"
   ]
  },
  {
   "cell_type": "markdown",
   "metadata": {},
   "source": [
    "Fitting 5 folds for each of 1728 candidates, totalling 8640 fits<br>\n",
    "CPU times: total: 3m 18s s<br>\n",
    "Wall time: 10h 56min 47s"
   ]
  },
  {
   "cell_type": "code",
   "execution_count": null,
   "metadata": {},
   "outputs": [],
   "source": [
    "grid_search_XGB.best_params_"
   ]
  },
  {
   "cell_type": "markdown",
   "metadata": {},
   "source": [
    "{'colsample_bytree': 0.9,<br>\n",
    " 'gamma': 0,<br>\n",
    " 'learning_rate': 0.15,<br>\n",
    " 'max_depth': 7,<br>\n",
    " 'min_child_weight': 5,<br>\n",
    " 'n_estimators': 300,<br>\n",
    " 'reg_alpha': 0,<br>\n",
    " 'reg_lambda': 1,<br>\n",
    " 'subsample': 0.9}"
   ]
  },
  {
   "cell_type": "markdown",
   "metadata": {},
   "source": [
    "Following came out to be the best parameters for a Linear Regression Model that produces the best ROC AUC Score:\n",
    "1. colsample_bytree (subsample ratio of columns when constructing each tree) : 0.9\n",
    "2. gamma (Minimum loss reduction required to make a further partition) : 0\n",
    "3. learning_rate (Technique used to measure the quality of split) : 0.15\n",
    "4. max_depth (The maximum depth of the tree) : 7\n",
    "5. min_child_weight (Minimum sum of instance weight (hessian) needed in a child) : 5\n",
    "6. n_estimators (The number of trees in the forest) : 300\n",
    "7. reg_alpha (L1 regularization term on weights) : 0\n",
    "8. reg_lambda (L2 regularization term on weights) : 1\n",
    "9. subsample (Subsample ratio of the training instances) : 0.9"
   ]
  },
  {
   "cell_type": "code",
   "execution_count": null,
   "metadata": {},
   "outputs": [],
   "source": [
    "XGBModel_pred = grid_search_XGB.predict(X_test)\n",
    "print(\"Recall :\", str(round(recall_score(y_test, XGBModel_pred), 4)*100) + \"%\")\n",
    "print(\"Precision :\", str(round(precision_score(y_test, XGBModel_pred), 4)*100) + \"%\")\n",
    "print(\"Accuracy :\", str(round(accuracy_score(y_test, XGBModel_pred), 4)*100) + \"%\")\n",
    "print(\"F1 Score :\", str(round(f1_score(y_test, XGBModel_pred), 4)*100) + \"%\")\n",
    "print(\"ROC AUC Score :\", str(round(roc_auc_score(y_test, XGBModel_pred), 4)*100) + \"%\")"
   ]
  },
  {
   "cell_type": "markdown",
   "metadata": {},
   "source": [
    "Recall : 86.31%<br>\n",
    "Precision : 98.47%<br>\n",
    "Accuracy : 92.49%<br>\n",
    "F1 Score : 91.99%<br>\n",
    "ROC AUC Score : 92.49%"
   ]
  },
  {
   "cell_type": "markdown",
   "metadata": {},
   "source": [
    "## Comparing the results of different models\n",
    "\n",
    "The most important metric for this problem is ROC AUC Score. We will compare it for all the Tuned Machine Learning Models we have made:\n",
    "\n",
    "**Logistic Regression:** 70.83%<br>\n",
    "**Decision Tree:** 85.31%<br>\n",
    "**Random Forest:** 91.75%<br>\n",
    "**XGBoost:** 92.49%\n",
    "\n",
    "**Random Forest** emerges out to be the clear winner"
   ]
  },
  {
   "cell_type": "markdown",
   "metadata": {},
   "source": [
    "**Note:** Because we did some feature engineering on some of the independent variables in train dataset before training our model, we need to apply same kind of feature engineering on the test dataset before we can pass it to our model to predict the probability."
   ]
  },
  {
   "cell_type": "code",
   "execution_count": 42,
   "metadata": {},
   "outputs": [],
   "source": [
    "# Pre-processing the dataset before balancing the imbalance dataset using over-sampling using SMOTE\n",
    "# Creating a copy so that the original dataset is untouched\n",
    "test_df1 = test_df.copy()\n",
    "\n",
    "\n",
    "# Creating a new column : LTIRatio that captures Loan Amount to Income Ratio\n",
    "test_df1['LTIRatio'] = test_df1['LoanAmount'] / test_df1['Income']\n",
    "\n",
    "\n",
    "# Scaling all continuous data tyoe columns\n",
    "# Scaling Age in the range (0,1)\n",
    "test_df1['Age'] = age_scaler.transform(test_df1[['Age']])\n",
    "\n",
    "# Scaling Income in the range (0,1)\n",
    "test_df1['Income'] = income_scaler.transform(test_df1[['Income']])\n",
    "\n",
    "# Scaling LoanAmount in the range (0,1)\n",
    "test_df1['LoanAmount'] = loanamount_scaler.transform(test_df1[['LoanAmount']])\n",
    "\n",
    "# Scaling CreditScore in the range (0,1)\n",
    "test_df1['CreditScore'] = creditscore_scaler.transform(test_df1[['CreditScore']])\n",
    "\n",
    "# Scaling MonthsEmployed in the range (0,1)\n",
    "test_df1['MonthsEmployed'] = monthsemployed_scaler.transform(test_df1[['MonthsEmployed']])\n",
    "\n",
    "# Scaling NumCreditLines in the range (0,1)\n",
    "test_df1['NumCreditLines'] = numcreditlines_scaler.transform(test_df1[['NumCreditLines']])\n",
    "\n",
    "# Scaling InterestRates in the range (0,1)\n",
    "test_df1['InterestRate'] = interestrates_scaler.transform(test_df1[['InterestRate']])\n",
    "\n",
    "# Scaling LoanTerm in the range (0,1)\n",
    "test_df1['LoanTerm'] = loanterm_scaler.transform(test_df1[['LoanTerm']])\n",
    "\n",
    "# Scaling LoanTerm in the range (0,1)\n",
    "test_df1['LTIRatio'] = ltiratio_scaler.transform(test_df1[['LTIRatio']])\n",
    "\n",
    "# Converting hierarchical categorical variables into numerical using mapping\n",
    "# Mapping and converting HasMortgage\n",
    "mapping = {'No':0, 'Yes':1}\n",
    "test_df1['HasMortgage'] = test_df1['HasMortgage'].map(mapping)\n",
    "\n",
    "# Mapping and converting HasDependents\n",
    "mapping = {'No':0, 'Yes':1}\n",
    "test_df1['HasDependents'] = test_df1['HasDependents'].map(mapping)\n",
    "\n",
    "# Mapping and converting HasCoSigner\n",
    "mapping = {'No':0, 'Yes':1}\n",
    "test_df1['HasCoSigner'] = test_df1['HasCoSigner'].map(mapping)\n",
    "\n",
    "\n",
    "# Converting non-hierarchical categorical variables into numerical using get_dummies\n",
    "test_df1 = pd.get_dummies(test_df1, columns=['Education', 'EmploymentType', 'MaritalStatus', 'LoanPurpose'])\n",
    "\n",
    "# Use our dummy classifier to make predictions on test_df using `predict_proba` method:\n",
    "predicted_probability = LR.predict_proba(test_df1.drop(['LoanID'], axis=1))[:, 1]"
   ]
  },
  {
   "cell_type": "code",
   "execution_count": 43,
   "metadata": {},
   "outputs": [],
   "source": [
    "### PLEASE CHANGE THIS CODE TO IMPLEMENT YOUR OWN PREDICTIONS\n",
    "\n",
    "# Combine predictions with label column into a dataframe\n",
    "prediction_df = pd.DataFrame({'LoanID': test_df[['LoanID']].values[:, 0],\n",
    "                             'predicted_probability': predicted_probability})"
   ]
  },
  {
   "cell_type": "code",
   "execution_count": 44,
   "metadata": {},
   "outputs": [
    {
     "name": "stdout",
     "output_type": "stream",
     "text": [
      "(109435, 2)\n"
     ]
    },
    {
     "data": {
      "text/html": [
       "<div>\n",
       "<style scoped>\n",
       "    .dataframe tbody tr th:only-of-type {\n",
       "        vertical-align: middle;\n",
       "    }\n",
       "\n",
       "    .dataframe tbody tr th {\n",
       "        vertical-align: top;\n",
       "    }\n",
       "\n",
       "    .dataframe thead th {\n",
       "        text-align: right;\n",
       "    }\n",
       "</style>\n",
       "<table border=\"1\" class=\"dataframe\">\n",
       "  <thead>\n",
       "    <tr style=\"text-align: right;\">\n",
       "      <th></th>\n",
       "      <th>LoanID</th>\n",
       "      <th>predicted_probability</th>\n",
       "    </tr>\n",
       "  </thead>\n",
       "  <tbody>\n",
       "    <tr>\n",
       "      <th>0</th>\n",
       "      <td>7RYZGMKJIR</td>\n",
       "      <td>0.320149</td>\n",
       "    </tr>\n",
       "    <tr>\n",
       "      <th>1</th>\n",
       "      <td>JDL5RH07AM</td>\n",
       "      <td>0.156586</td>\n",
       "    </tr>\n",
       "    <tr>\n",
       "      <th>2</th>\n",
       "      <td>STAL716Y79</td>\n",
       "      <td>0.168568</td>\n",
       "    </tr>\n",
       "    <tr>\n",
       "      <th>3</th>\n",
       "      <td>SO0KKJ3IQB</td>\n",
       "      <td>0.680235</td>\n",
       "    </tr>\n",
       "    <tr>\n",
       "      <th>4</th>\n",
       "      <td>T99CWTYDCP</td>\n",
       "      <td>0.522998</td>\n",
       "    </tr>\n",
       "    <tr>\n",
       "      <th>5</th>\n",
       "      <td>0SNHFWV4UP</td>\n",
       "      <td>0.398022</td>\n",
       "    </tr>\n",
       "    <tr>\n",
       "      <th>6</th>\n",
       "      <td>S6ITP6LGYS</td>\n",
       "      <td>0.183043</td>\n",
       "    </tr>\n",
       "    <tr>\n",
       "      <th>7</th>\n",
       "      <td>A6I7U12IRJ</td>\n",
       "      <td>0.291339</td>\n",
       "    </tr>\n",
       "    <tr>\n",
       "      <th>8</th>\n",
       "      <td>8W6KY50JU4</td>\n",
       "      <td>0.360647</td>\n",
       "    </tr>\n",
       "    <tr>\n",
       "      <th>9</th>\n",
       "      <td>THFQ08OLMU</td>\n",
       "      <td>0.425424</td>\n",
       "    </tr>\n",
       "  </tbody>\n",
       "</table>\n",
       "</div>"
      ],
      "text/plain": [
       "       LoanID  predicted_probability\n",
       "0  7RYZGMKJIR               0.320149\n",
       "1  JDL5RH07AM               0.156586\n",
       "2  STAL716Y79               0.168568\n",
       "3  SO0KKJ3IQB               0.680235\n",
       "4  T99CWTYDCP               0.522998\n",
       "5  0SNHFWV4UP               0.398022\n",
       "6  S6ITP6LGYS               0.183043\n",
       "7  A6I7U12IRJ               0.291339\n",
       "8  8W6KY50JU4               0.360647\n",
       "9  THFQ08OLMU               0.425424"
      ]
     },
     "execution_count": 44,
     "metadata": {},
     "output_type": "execute_result"
    }
   ],
   "source": [
    "### PLEASE CHANGE THIS CODE TO IMPLEMENT YOUR OWN PREDICTIONS\n",
    "\n",
    "# View our 'prediction_df' dataframe as required for submission.\n",
    "# Ensure it should contain 104,480 rows and 2 columns 'CustomerID' and 'predicted_probaility'\n",
    "print(prediction_df.shape)\n",
    "prediction_df.head(10)"
   ]
  },
  {
   "cell_type": "markdown",
   "metadata": {},
   "source": [
    "## Final Tests - **IMPORTANT** - the cells below must be run prior to submission\n",
    "\n",
    "Below are some tests to ensure your submission is in the correct format for autograding. The autograding process accepts a csv `prediction_submission.csv` which we will generate from our `prediction_df` below. Please run the tests below an ensure no assertion errors are thrown."
   ]
  },
  {
   "cell_type": "code",
   "execution_count": 45,
   "metadata": {},
   "outputs": [],
   "source": [
    "# FINAL TEST CELLS - please make sure all of your code is above these test cells\n",
    "\n",
    "# Writing to csv for autograding purposes\n",
    "prediction_df.to_csv(\"prediction_submission.csv\", index=False)\n",
    "submission = pd.read_csv(\"prediction_submission.csv\")\n",
    "\n",
    "assert isinstance(submission, pd.DataFrame), 'You should have a dataframe named prediction_df.'"
   ]
  },
  {
   "cell_type": "code",
   "execution_count": 46,
   "metadata": {},
   "outputs": [],
   "source": [
    "# FINAL TEST CELLS - please make sure all of your code is above these test cells\n",
    "\n",
    "assert submission.columns[0] == 'LoanID', 'The first column name should be CustomerID.'\n",
    "assert submission.columns[1] == 'predicted_probability', 'The second column name should be predicted_probability.'"
   ]
  },
  {
   "cell_type": "code",
   "execution_count": 47,
   "metadata": {},
   "outputs": [],
   "source": [
    "# FINAL TEST CELLS - please make sure all of your code is above these test cells\n",
    "\n",
    "assert submission.shape[0] == 109435, 'The dataframe prediction_df should have 109435 rows.'"
   ]
  },
  {
   "cell_type": "code",
   "execution_count": 48,
   "metadata": {},
   "outputs": [],
   "source": [
    "# FINAL TEST CELLS - please make sure all of your code is above these test cells\n",
    "\n",
    "assert submission.shape[1] == 2, 'The dataframe prediction_df should have 2 columns.'"
   ]
  },
  {
   "cell_type": "code",
   "execution_count": 49,
   "metadata": {},
   "outputs": [],
   "source": [
    "# FINAL TEST CELLS - please make sure all of your code is above these test cells\n",
    "\n",
    "## This cell calculates the auc score and is hidden. Submit Assignment to see AUC score."
   ]
  },
  {
   "cell_type": "markdown",
   "metadata": {},
   "source": [
    "## Note\n",
    "\n",
    "Although Random Forest emerged out a clear winner, I still have experimented to submit probabilities generated on test dataset using all models one by one to get the highest score and to improve my overall leaderboard ranking."
   ]
  }
 ],
 "metadata": {
  "kernelspec": {
   "display_name": "Python 3",
   "language": "python",
   "name": "python3"
  },
  "language_info": {
   "codemirror_mode": {
    "name": "ipython",
    "version": 3
   },
   "file_extension": ".py",
   "mimetype": "text/x-python",
   "name": "python",
   "nbconvert_exporter": "python",
   "pygments_lexer": "ipython3",
   "version": "3.7.6"
  }
 },
 "nbformat": 4,
 "nbformat_minor": 4
}
